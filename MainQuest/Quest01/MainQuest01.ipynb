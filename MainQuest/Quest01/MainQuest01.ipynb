{
  "nbformat": 4,
  "nbformat_minor": 0,
  "metadata": {
    "colab": {
      "provenance": [],
      "authorship_tag": "ABX9TyPNL27tcqYb8tFHZUtnLhbO",
      "include_colab_link": true
    },
    "kernelspec": {
      "name": "python3",
      "display_name": "Python 3"
    },
    "language_info": {
      "name": "python"
    }
  },
  "cells": [
    {
      "cell_type": "markdown",
      "metadata": {
        "id": "view-in-github",
        "colab_type": "text"
      },
      "source": [
        "<a href=\"https://colab.research.google.com/github/Mchoon84/AIFFEL_guest_cr/blob/main/MainQuest/Quest01/MainQuest01.ipynb\" target=\"_parent\"><img src=\"https://colab.research.google.com/assets/colab-badge.svg\" alt=\"Open In Colab\"/></a>"
      ]
    },
    {
      "cell_type": "code",
      "execution_count": 3,
      "metadata": {
        "colab": {
          "base_uri": "https://localhost:8080/"
        },
        "id": "mGx1kHkQmaaH",
        "outputId": "c151916a-c052-43ba-ccb9-94fb3f04823f"
      },
      "outputs": [
        {
          "output_type": "stream",
          "name": "stdout",
          "text": [
            "생성된 계좌의 총 개수: 3\n",
            "은행 이름: SC은행, 예금주: 박광석, 계좌번호: 742-89-741870, 잔고: 3,000,000원\n",
            "은행 이름: SC은행, 예금주: 조웅제, 계좌번호: 195-65-611156, 잔고: 5,000,000원\n",
            "입금은 최소 1원 이상만 가능합니다.\n",
            "계좌 잔고 이상으로 출금할 수 없습니다.\n",
            "차정은의 입금 내역:\n",
            "1회: 입금 금액: 1,000원, 잔액: 2,000원\n",
            "2회: 입금 금액: 1,000원, 잔액: 3,000원\n",
            "3회: 입금 금액: 1,000원, 잔액: 4,000원\n",
            "4회: 입금 금액: 1,000원, 잔액: 5,000원\n",
            "5회: 입금 금액: 1,000원, 잔액: 6,000원\n",
            "6회: 이자 지급 금액: 60원, 잔액: 6,060원\n",
            "6회: 입금 금액: 1,000원, 잔액: 7,060원\n",
            "7회: 입금 금액: 1,000원, 잔액: 8,060원\n",
            "8회: 입금 금액: 1,000원, 잔액: 9,060원\n",
            "9회: 입금 금액: 1,000원, 잔액: 10,060원\n",
            "10회: 입금 금액: 1,000원, 잔액: 11,060원\n",
            "11회: 이자 지급 금액: 111원, 잔액: 11,171원\n",
            "--------------------------------------------------\n",
            "차정은의 출금 내역:\n",
            "13회: 출금 금액: 3,000원, 잔액: 8,171원\n"
          ]
        }
      ],
      "source": [
        "import random # 계좌 번호를 랜덤하게 생성해야 하기 때문에\n",
        "\n",
        "class Account:\n",
        "  bank_name = \"SC은행\"\n",
        "  account_count = 0 # Q2. 클래스 변수를 사용해서 계좌 개수 저장\n",
        "\n",
        "  def __init__(self, account_holder, initial_balance):\n",
        "    self.account_holder = account_holder\n",
        "    self.balance = initial_balance\n",
        "    self.account_number = self._generate_account_number()\n",
        "    self.deposit_count = 0 # Q7. 이자 계산을 위해 입금 횟수 초기화\n",
        "    self.transaction_history = [] # Q10. 입출금 내역 기록 리스트\n",
        "    Account.account_count += 1 # Q2. 클래스 변수를 사용해서 계좌 개수 저장\n",
        "\n",
        "  def _generate_account_number(self):\n",
        "    part1 = str(random.randint(100, 999))\n",
        "    part2 = str(random.randint(10, 99))\n",
        "    part3 = str(random.randint(100000, 999999))\n",
        "    return f\"{part1}-{part2}-{part3}\"\n",
        "\n",
        "  def __str__(self):\n",
        "    comma_balance = f\"{self.balance:,}\" # Q6. 잔고를 천 단위로 표시\n",
        "    return f\"은행 이름: {self.bank_name}, 예금주: {self.account_holder}, 계좌번호: {self.account_number}, 잔고: {comma_balance}원\"\n",
        "\n",
        "  def get_account_num(): # Q3. 계좌 생성 개수 출력하기 위해서 메서드 추가.\n",
        "    return Account.account_count\n",
        "\n",
        "  def deposit(self, amount):\n",
        "    if amount > 0:\n",
        "      self.balance += amount\n",
        "      self.deposit_count += 1 # Q7. 입금 횟수 증가\n",
        "      self.transaction_history.append(f\"{self.deposit_count}회: 입금 금액: {amount:,}원, 잔액: {self.balance:,}원\") # Q10. 입금 내역 기록\n",
        "      if self.deposit_count % 5 == 0: # Q7. 입금 5회마다\n",
        "        interest = self.balance * 0.01  # Q7. 이자 1%\n",
        "        interest = round(interest)\n",
        "        self.balance += interest\n",
        "        self.transaction_history.append(f\"{self.deposit_count + 1}회: 이자 지급 금액: {interest:,}원, 잔액: {self.balance:,}원\")\n",
        "    else:\n",
        "        print(\"입금은 최소 1원 이상만 가능합니다.\")\n",
        "\n",
        "  def withdraw(self, amount):\n",
        "    if amount > 0 and amount <= self.balance:\n",
        "      self.balance -= amount\n",
        "      self.transaction_history.append(f\"{len(self.transaction_history) + 1}회: 출금 금액: {amount:,}원, 잔액: {self.balance:,}원\")\n",
        "    else:\n",
        "      print(\"계좌 잔고 이상으로 출금할 수 없습니다.\")\n",
        "\n",
        "  # def show_transaction_history(self): # Q10. 입출금 내역 출력 메서드\n",
        "  #   print(f\"{self.account_holder}의 거래 내역:\")\n",
        "  #   for record in self.transaction_history:\n",
        "  #     print(record)\n",
        "\n",
        "  def deposit_history(self):\n",
        "    print(f\"{self.account_holder}의 입금 내역:\")\n",
        "    for record in self.transaction_history:\n",
        "      if \"입금\" in record or \"이자 지급\" in record:\n",
        "        print(record)\n",
        "\n",
        "  def withdraw_history(self):\n",
        "    print(f\"{self.account_holder}의 출금 내역:\")\n",
        "    for record in self.transaction_history:\n",
        "      if \"출금\" in record:\n",
        "        print(record)\n",
        "\n",
        "first_account = Account('차정은', 1000)\n",
        "second_account = Account('박광석', 3000000)\n",
        "third_account = Account('조웅제', 5000000)\n",
        "\n",
        "accounts = [first_account, second_account, third_account]\n",
        "\n",
        "print(f\"생성된 계좌의 총 개수: {Account.get_account_num()}\") # Q3. 계좌 생성 개수 출력\n",
        "\n",
        "for account in accounts: # 100만원 이상 고객 정보만 출력\n",
        "  if account.balance >= 1000000:\n",
        "    print(account)\n",
        "\n",
        "# 계좌 생성\n",
        "my_account = Account('차정은', 1000)\n",
        "\n",
        "# 입출금 및 기록\n",
        "for i in range(10):\n",
        "    my_account.deposit(1000)  # 입금 10회\n",
        "my_account.deposit(-1000)  # 유효하지 않은 입금\n",
        "my_account.withdraw(300000)  # 잔고 초과 출금\n",
        "my_account.withdraw(3000)  # 정상 출금\n",
        "\n",
        "# 출력\n",
        "my_account.deposit_history()\n",
        "print('-' * 50)\n",
        "my_account.withdraw_history()"
      ]
    }
  ]
}